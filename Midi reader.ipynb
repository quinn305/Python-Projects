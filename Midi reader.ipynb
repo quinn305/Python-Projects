{
 "cells": [
  {
   "cell_type": "code",
   "execution_count": 1,
   "metadata": {},
   "outputs": [
    {
     "name": "stdout",
     "output_type": "stream",
     "text": [
      "pygame 2.1.2 (SDL 2.0.18, Python 3.8.3)\n",
      "Hello from the pygame community. https://www.pygame.org/contribute.html\n",
      "0 (b'CoreMIDI', b'Roland Digital Piano', 1, 0, 0)\n",
      "1 (b'CoreMIDI', b'Roland Digital Piano', 0, 1, 0)\n",
      "2 devices\n"
     ]
    }
   ],
   "source": [
    "import pygame.midi\n",
    "\n",
    "def print_devices():\n",
    "    for n in range(pygame.midi.get_count()):\n",
    "        print (n,pygame.midi.get_device_info(n))\n",
    "    print(f\"{pygame.midi.get_count()} devices\")\n",
    "\n",
    "if __name__ == '__main__':\n",
    "    pygame.midi.init()\n",
    "    print_devices()"
   ]
  },
  {
   "cell_type": "code",
   "execution_count": 2,
   "metadata": {},
   "outputs": [],
   "source": [
    "def number_to_note(number):\n",
    "    notes = ['c', 'c#', 'd', 'd#', 'e', 'f', 'f#', 'g', 'g#', 'a', 'a#', 'b']\n",
    "    return notes[number%12]\n",
    "\n",
    "def readInput(input_device):\n",
    "    while True:\n",
    "        if input_device.poll():\n",
    "            event = input_device.read(1)[0]\n",
    "            data = event[0]\n",
    "            timestamp = event[1]\n",
    "            note_number = data[1]\n",
    "            velocity = data[2]\n",
    "            print (number_to_note(note_number), velocity, timestamp)"
   ]
  },
  {
   "cell_type": "code",
   "execution_count": null,
   "metadata": {},
   "outputs": [
    {
     "name": "stdout",
     "output_type": "stream",
     "text": [
      "c 16 6219\n",
      "c 110 6618\n",
      "d 24 8148\n",
      "d 88 8476\n",
      "c 38 9826\n",
      "e 46 9851\n",
      "g 39 9852\n",
      "e 127 10043\n",
      "c 121 10046\n",
      "g 109 10049\n",
      "f 31 14778\n",
      "d 27 14790\n",
      "a 19 14794\n",
      "d 103 14984\n",
      "f 94 15023\n",
      "a 75 15052\n",
      "b 39 17283\n",
      "g 24 17285\n",
      "e 36 17295\n",
      "e 105 17461\n",
      "b 79 17526\n",
      "g 98 17543\n",
      "a 37 18469\n",
      "e 20 18482\n",
      "c 7 18508\n",
      "a 114 18716\n",
      "c 104 18725\n",
      "e 127 18725\n",
      "f 21 19341\n",
      "a 22 19348\n",
      "d 30 19360\n",
      "a 86 19658\n",
      "d 89 19663\n",
      "f 73 19668\n",
      "c 21 20107\n",
      "e 36 20125\n",
      "a 24 20126\n",
      "a 105 20697\n",
      "e 113 20742\n",
      "c 103 20757\n",
      "c 22 21016\n",
      "e 31 21036\n",
      "g 13 21084\n",
      "c 118 21746\n",
      "e 109 21757\n",
      "g 98 21763\n",
      "b 42 22317\n",
      "d 46 22322\n",
      "g 30 22337\n",
      "d 94 22481\n",
      "b 91 22504\n",
      "g 74 22515\n",
      "c 25 22820\n",
      "g 14 22836\n",
      "e 41 22838\n",
      "c 118 22994\n",
      "e 107 23028\n",
      "g 72 23055\n"
     ]
    }
   ],
   "source": [
    "if __name__ == '__main__':\n",
    "    pygame.midi.init()\n",
    "    my_input = pygame.midi.Input(0) \n",
    "    readInput(my_input)"
   ]
  },
  {
   "cell_type": "code",
   "execution_count": null,
   "metadata": {},
   "outputs": [],
   "source": []
  },
  {
   "cell_type": "code",
   "execution_count": null,
   "metadata": {},
   "outputs": [],
   "source": []
  }
 ],
 "metadata": {
  "kernelspec": {
   "display_name": "Python 3",
   "language": "python",
   "name": "python3"
  },
  "language_info": {
   "codemirror_mode": {
    "name": "ipython",
    "version": 3
   },
   "file_extension": ".py",
   "mimetype": "text/x-python",
   "name": "python",
   "nbconvert_exporter": "python",
   "pygments_lexer": "ipython3",
   "version": "3.8.3"
  }
 },
 "nbformat": 4,
 "nbformat_minor": 4
}
