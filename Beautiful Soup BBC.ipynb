{
 "cells": [
  {
   "cell_type": "code",
   "execution_count": 4,
   "metadata": {},
   "outputs": [],
   "source": [
    "import requests\n",
    "from bs4 import BeautifulSoup as bs"
   ]
  },
  {
   "cell_type": "code",
   "execution_count": 26,
   "metadata": {},
   "outputs": [],
   "source": [
    "class BBC:\n",
    "    def __init__(self, url):\n",
    "        article = requests.get(url)\n",
    "        self.soup = bs(article.content, \"html.parser\")\n",
    "        self.body = self.get_body()\n",
    "        self.title = self.get_title()\n",
    "        \n",
    "    def get_body(self) -> list:\n",
    "        body = self.soup.find(class_=\"ssrcss-1072xwf-ArticleWrapper e1nh2i2l6\")\n",
    "        return [p.text for p in body.find_all(\"p\")]\n",
    "    \n",
    "    def get_title(self) -> str:\n",
    "        return self.soup.find(class_=\"ssrcss-115ein1-StyledHeading e1fj1fc10\").text"
   ]
  },
  {
   "cell_type": "code",
   "execution_count": 27,
   "metadata": {},
   "outputs": [],
   "source": [
    "parsed = BBC(\"https://www.bbc.com/news/world-asia-57536032\")"
   ]
  },
  {
   "cell_type": "code",
   "execution_count": 28,
   "metadata": {},
   "outputs": [
    {
     "data": {
      "text/plain": [
       "'Myanmar coup: UN calls for arms embargo against military'"
      ]
     },
     "execution_count": 28,
     "metadata": {},
     "output_type": "execute_result"
    }
   ],
   "source": [
    "parsed.title"
   ]
  },
  {
   "cell_type": "code",
   "execution_count": 29,
   "metadata": {},
   "outputs": [
    {
     "data": {
      "text/plain": [
       "[\"The UN has issued a rare call to halt to arms sales to Myanmar in response to this year's violent military coup.\",\n",
       " \"The General Assembly adopted a resolution condemning the military junta, which overthrew the country's elected government in February.\",\n",
       " 'The UN also called for the release of political detainees, such as elected leader Aung San Suu Kyi, and an end to violence against peaceful protesters.',\n",
       " 'While not legally binding, the resolution is politically significant.',\n",
       " '\"The risk of a large-scale civil war is real,\" UN special envoy on Myanmar, Christine Schraner Burgener, told the General Assembly. \"Time is of the essence. The opportunity to reverse the military takeover is narrowing.\"',\n",
       " 'It was supported by 119 countries, with Belarus the only one to vote against it.',\n",
       " \"Another 36 countries abstained, including Russia and China - Myanmar military's two biggest arms suppliers.\",\n",
       " 'Some of the abstainers said the crisis was an internal issue for Myanmar, while others said the resolution did not address a brutal military crackdown on the Rohingya Muslim population four years ago, which forced almost a million people to flee the country.',\n",
       " 'The EU\\'s UN ambassador, Olof Skoog, said the resolution \"delegitimises the military junta, condemns its abuse and violence against its own people, and demonstrates its isolation in the eyes of the world\".',\n",
       " 'But Myanmar\\'s UN ambassador Kyaw Moe Tun, who represents the country\\'s elected civilian government, said he was disappointed by how long it took for the General Assembly to pass what he called a \"watered down\" resolution.',\n",
       " 'Ms Suu Kyi, 75, has been held under house arrest since the coup, and little has been seen or heard of her, with the exception of brief court appearances.',\n",
       " 'The military has justified seizing power in February, alleging voter fraud in general elections held last November.',\n",
       " 'But independent election monitors say the election was largely free and fair, and the charges against Ms Suu Kyi have been widely criticised as politically motivated.',\n",
       " \"The coup triggered widespread demonstrations, and Myanmar's military has brutally cracked down on pro-democracy protesters, activists and journalists.\",\n",
       " 'Security forces have killed more than 860 people and detained nearly 5,000 to date, according to the monitoring group Assistance Association for Political Prisoners (AAPP).',\n",
       " 'Last month, Human Rights Watch had urged the UN General Assembly to pass a resolution calling for an arms embargo, saying that \"while not legally binding on states, such a resolution would carry significant political weight\".',\n",
       " '\"Governments should recognise that arms sold to Myanmar\\'s military will likely be used to commit abuses against the population,\" the organisation added. \"Arms embargoes can help prevent such crimes.\"',\n",
       " 'Myanmar coup: What is happening and why?',\n",
       " \"The embattled town that stood up to Myanmar's army\",\n",
       " \"Street tales from Myanmar: 'Take care of our baby if I die'\"]"
      ]
     },
     "execution_count": 29,
     "metadata": {},
     "output_type": "execute_result"
    }
   ],
   "source": [
    "parsed.body"
   ]
  },
  {
   "cell_type": "code",
   "execution_count": 31,
   "metadata": {},
   "outputs": [],
   "source": [
    "parsed1 = BBC(\"https://www.bbc.com/news/world-us-canada-57525241\")"
   ]
  },
  {
   "cell_type": "code",
   "execution_count": 32,
   "metadata": {},
   "outputs": [
    {
     "data": {
      "text/plain": [
       "'Alex Harvill: US daredevil dies during world record attempt'"
      ]
     },
     "execution_count": 32,
     "metadata": {},
     "output_type": "execute_result"
    }
   ],
   "source": [
    "parsed1.title"
   ]
  },
  {
   "cell_type": "code",
   "execution_count": 34,
   "metadata": {},
   "outputs": [],
   "source": [
    "ico = BBC(\"https://www.bbc.com/news/technology-57504717\")"
   ]
  },
  {
   "cell_type": "code",
   "execution_count": 35,
   "metadata": {},
   "outputs": [
    {
     "data": {
      "text/plain": [
       "['The UK Information Commissioner has said she is \"deeply concerned\" live facial recognition (LFR) may be used \"inappropriately, excessively or even recklessly\".',\n",
       " 'Elizabeth Denham questioned what would happen if it was combined with social media and other big data.',\n",
       " 'There is a \"high bar\" for LFR where \"we shop, socialise or gather\", she wrote.',\n",
       " 'New guidance for companies and public organisations using the technology has also been published.',\n",
       " 'In a blog post Ms Denham addressed the use of live face recognition, saying that facial recognition technology could be useful, allowing us to unlock our mobile phones, or set up a bank account online.',\n",
       " \"But when people's faces were scanned and processed by algorithms in real time and in public places, the risks to privacy increased.\",\n",
       " '\"We should be able to take our children to a leisure complex, visit a shopping centre or tour a city to see the sights without having our biometric data collected and analysed with every step we take,\" she wrote.',\n",
       " \"The tech could create instant profiles of people to be used in serving personalised adverts or it could match shoppers' faces against watch-lists of known shoplifters.\",\n",
       " \"In a separate Commissioner's Opinion, the ICO revealed it was aware of proposals to use live facial recognition in billboards.\",\n",
       " 'Ads in public spaces might be able tell how engaged a person was, or estimate their age, ethnicity, sex and even clothing styles and brands, in order to serve personalised content.',\n",
       " 'Billboards might even remember faces allowing companies to track individuals visits across different locations.',\n",
       " 'Companies also needed to be aware of the dangers of bias in facial recognition systems and the risks of misidentification.',\n",
       " \"The Commissioner's Opinion sets standards for the use of the live facial recognition by companies and public bodies; police use was addressed in an earlier document.\",\n",
       " 'The new opinion revealed that out of six ICO investigations into LFR systems, none of the systems that actually went live were fully compliant with data protection law.',\n",
       " 'All of the organisations chose to stop, or not proceed with the use of the technology.',\n",
       " 'Facial recognition: EU considers ban',\n",
       " 'Shopping centre facial ID scheme troubles watchdog',\n",
       " 'Co-op facial recognition trial sparks alarm']"
      ]
     },
     "execution_count": 35,
     "metadata": {},
     "output_type": "execute_result"
    }
   ],
   "source": [
    "ico.body"
   ]
  },
  {
   "cell_type": "code",
   "execution_count": 37,
   "metadata": {},
   "outputs": [],
   "source": [
    "class BBC_SW:\n",
    "    def __init__(self, url):\n",
    "        article = requests.get(url)\n",
    "        self.soup = bs(article.content, \"html.parser\")\n",
    "        self.body = self.get_body()\n",
    "        self.title = self.get_title()\n",
    "        \n",
    "    def get_body(self) -> list:\n",
    "        body = self.soup.find(role=\"main\")\n",
    "        return [p.text for p in body.find_all(\"p\")]\n",
    "    \n",
    "    def get_title(self) -> str:\n",
    "        return self.soup.find(class_=\"bbc-1151pbn e57qer20\").text"
   ]
  },
  {
   "cell_type": "code",
   "execution_count": 42,
   "metadata": {},
   "outputs": [],
   "source": [
    "sw = BBC_SW(\"https://www.bbc.com/swahili/habari-57514895\")"
   ]
  },
  {
   "cell_type": "code",
   "execution_count": 43,
   "metadata": {},
   "outputs": [
    {
     "data": {
      "text/plain": [
       "'Siku 100 za Rais Samia Suluhu: Jinsi serikali ya Muungano inaathiri utendaji wa serikali ya Zanzibar'"
      ]
     },
     "execution_count": 43,
     "metadata": {},
     "output_type": "execute_result"
    }
   ],
   "source": [
    "sw.title"
   ]
  },
  {
   "cell_type": "code",
   "execution_count": 44,
   "metadata": {},
   "outputs": [
    {
     "data": {
      "text/plain": [
       "['Chanzo cha picha, CCM',\n",
       " 'Kwa sababu ya Muungano wa miaka 57 ulioundwa na nchi mbili za Zanzibar na Tanganyika. Serikali ya Jamhuri ya Muungano wa Tanzania na ile ya Mapinduzi Zanzibar (SMZ), hushirikiana katika mambo kadhaa.',\n",
       " 'Pia, kuna yale ambayo hayahesabiwi kama mambo ya Muungano, serikali ya Zanzibar kwa upande wake huyasimamia yenyewe.  Ingawa kwa kuwa serikali hiyo imekosa meno kamili ya kiutawala. Hujikuta inafuata nyuma ya sera za serikali ya Muungano hata kwa mambo ambayo hayahusu Muungano.',\n",
       " 'Lakini si kila wakati Zanzibar inaathirika katika namna hasi kwa kuwa mfuataji. Zipo nyakati ambazo kuathirika kwake ni kwa namna nzuri. Hivyo huathirika vibaya au vizuri kutegemeana na hali ya mambo.',\n",
       " 'Wakati janga la Corona linaikumba dunia. Serikali ya Rais Magufuli ilikuwa mstari wa mbele kuipa dunia takwimu za mwenendo wa ugonjwa huo nchini. Idadi ya walioambukizwa, waliopona na idadi ya vifo.',\n",
       " 'Kwa upande wa Zanzibar takwimu kama hizo zilikuwa zinatolewa vilevile. Hii ni kwa sababu swala la afya haliko katika orodha ya mambo ya Muungano. Zanzibar inasimamia yenyewe sekta ya afya.',\n",
       " 'Mwezi Aprili 2020, ndio ulikuwa mwezi wa mwisho kwa Tanzania kuweka wazi takwimu zake za corona. Takwimu za mwisho zilionesha ina wagonjwa 480, vifo 16 na watu 167 wamepona.',\n",
       " 'Rais Magufuli alipobadili sera na kuzuia takwimu za corona, sanjari na kupuuza hatua za kujikinga zilizokuwa zikishauriwa na wataalamu afya. Na Zanzibar sera zikabadilika vilevile. Takwimu za corona hazikutolewa tena. ',\n",
       " 'Chanzo cha picha, EPA',\n",
       " 'Baada ya mabadiliko hayo Zanzibar iligeuka na kuwa pepo ya watalii kutoka mataifa ya Ulaya. Walijazana na kuzajana kwa sababu hakukuwa na vikwazo vyovyote wakati wa kuingia.',\n",
       " 'Baada ya Rais Magufuli kufariki. Ndani ya siku mia za utawala wa Rais Samia Suluhu amekuja na sera tofauti kuhusu corona, kwa sasa anahimiza kujilinda kwa kuvaa barakao.',\n",
       " 'Aliunda tume ambayo ilitoa mapendekezo. Na serikali yake imekubali kuyafuata. Moja ya mapendekezo hayo ni kukubali kupokea chanjo ya corona.',\n",
       " 'Rais Samia anaamini ukitaka kufika mbali uende na wenzako. Serikali yake imekubali kwenda na dunia katika mapambano dhidi ya corona.',\n",
       " 'Serikali ya Zanzibar nayo imefuata mkia. Rais Mwinyi ameonekana mara kadhaa akiwa na barakoa, na amekiri uwepo wa janga hilo visiwani. Fauka ya hayo, Zanzibar iko tayari kupokea chanjo ya corona. ',\n",
       " 'Baada ya takribani miaka nane kizuizini, washitakiwa maarufu kwa jina la Masheikh Wa Uamsho wameachiwa huru wiki hii baada ya Mkurugenzi wa Mashtaka kuwafutia mashitaka ya ugaidi.',\n",
       " 'Miaka nane bila ya kesi hiyo kupata ushahidi, imeongeza uzito yale maadai ya baadhi ya Watanzania kwamba watu hao walishikiliwa kwa sababu za kisiasa.',\n",
       " 'Mara tu baada ya kuingia madarakani Rais Samia alikemea hadharani kesi za kubambika na kutaka mamlaka zilizo chini yake kufuta mashtaka yote ya aina hiyo. ',\n",
       " 'Chanzo cha picha, THE CITIZEN/TWITTER',\n",
       " 'Harakati za mashekhe hao dhidi ya Muungano zilipata umaarufu visiwani Zanzibar katika ya mwaka 2011 na 2012. Waliendesha kampeni ya kudai mamlaka kamili ya visiwa hivyo.',\n",
       " 'Zanzibar ina mahakama yake ambayo ina uwezo wa kuendesha kesi ambayo ilikuwa inawakabili. Swali la msingi, kwanini walihamishiwa Tanzania bara? Je, Mahakama ya Zanzibar iliporwa haki na Tanzania bara kuendesha kesi hiyo?',\n",
       " 'Wakati huu ambao Masheikh hao wapo nje, mjadala muhimu pia ni kuhusu nguvu ya Zanzibar kuendesha kesi za watuhumiwa wake bila kuhamishiwa bara. ',\n",
       " 'Kwa miaka mingi utendaji wa watumishi wa umma Zanzibar ulikuwa ni wa kimazoea. Hakukuwa na uwajibishwaji wala uwazi. Hakukuwa na ripoti kutoka Ikulu za kusimamishwa kazi au kuenguliwa nafasi zao watumishi ambao hufanya ufisadi.',\n",
       " 'Kwa sasa mambo yamebadilika, watumishi wanawajibishwa, kuenguliwa ama kusimamishwa ili kuchunguzwa. Hata watumishi katika nyadhifa nyeti wamejikuta wakipigwa panga.',\n",
       " 'Mwezi Aprili mwaka huu, Rais Hussein Mwinyi alitengua uteuzi wa makamanda wakuu wa vikosi vitatu vya SMZ, Kikosi Maalumu cha Kuzuia Magendo (KMKM), Jeshi la Kujenga Uchumi (JKU) na Chuo cha Mafunzo. ',\n",
       " 'Utumbuaji huo ulikuja baada ya Rais kupokea ripoti kutoka kamati ya uchunguzi, iliyobaini uwepo wa wafanyakazi hewa, ubadhirifu na ufisadi katika idara hizo za SMZ. ',\n",
       " 'Chanzo cha picha, Getty Images',\n",
       " 'Pia kumekuwa na uwazi mkubwa katika mambo mengi. Mwezi Mei, Rais Mwinyi alipokea ripoti ya Mdhibiti na Mkaguzi wa Hesabu za Serikali mbele ya kamera. Katika tawala zilizopita ripoti hii mara nyingi ilikuwa siri, haikuwa inatolewa hadharani na kumfanya kila mtu asikie mazuri na maovu yaliyomo katika taasisi mbali mbali.',\n",
       " 'Utendaji wa aina hii uliasisiwa na mwendazake John Pombe Magufuli kwa upande wa Tanzania bara. Rais Mwinyi anaonekana kufuata nyayo hizo hizo kwa upande wa Zanzibar.',\n",
       " 'Rais Samia Suluhu Hassan nae anaendeleza utendaji wa aina hiyo. Siku mia za utawala wake, zimekuja na kuwaondoa na kusimamisha kazi watendaji kadhaa wa serikali yake.',\n",
       " 'Uhusiano wa vyombo vya habari na utawala',\n",
       " 'Hayati Magufuli hakuwa na uhusiano rafiki na  vyombo vya habari. Hofu ilishamiri, vyombo vilifungiwa, vilipigwa faini. Na uhuru wa kukosoa utawala ukakosekana.',\n",
       " 'Siku mia za utawala wa sasa zimepunguza makali. Vyombo vilivyokuwa vimefungiwa vimefunguliwa. Na bado hakujaripotiwa kauli yenye kuashiria vitisho kwa vyombo vya habari, kutoka Rais Samia au watumishi wa serikali.',\n",
       " 'Vyombo vya habari vimepata nafuu kwa upande wa Zanzibar pia. Serikali inahimiza ofisi za umma kutoa ushirikiano kwa kuwapa taarifa waandishi wanapofika katika ofisi hizo.',\n",
       " 'Kuna tukio la mwandishi wa gazeti la Mwananchi kupigwa na maafisa wa vikosi vya SMZ, Serikali ya Zanzibar iliomba radhi kupitia Wizara ya Nchi, Afisi ya Rais, Tawala za Mikoa na Vikosi vya SMZ na Wizara ya Habari ,Vijana, Utamaduni na Michezo.',\n",
       " 'Pia, waliohusika na shambulio hilo, Wizara inayohusika na vikosi vya SMZ ilieleza kuwa hatua zitachukuliwa dhidi yao.',\n",
       " 'Kwa wanaoelewa utendaji wa SMZ, kuomba radhi mwandishi na kuchukua hatua dhidi ya maafisa wake, ni hatua ambayo haikuzoeleka. Iliashiria mabadiliko makubwa katika utawala wa sasa na vyombo vya habari.',\n",
       " 'Kauli ya Rais Samia alipokuwa akihutubia vijana mkoani Mwanza wiki hii, inaashiria uwepo wa ahueni si tu katika vyombo vya habari bali pia mitandao ya kijamii.',\n",
       " 'Rais Samia alisema, \"tumieni mitandao vizuri, kama una jambo la kulaumu, laumu na toa ushauri. Kama unakosoa, kosoa na toa mapendekezo nini kifanyike.\"',\n",
       " 'Hapa ni kusema kuwa kila mambo yakiharibika upande wa Serikali ya Muungano, yanaharibika vilevile upande wa Zanzibar. Na yakitengemaa upande wa Muungano hutengemaa pia katika utawala wa Zanzibar.']"
      ]
     },
     "execution_count": 44,
     "metadata": {},
     "output_type": "execute_result"
    }
   ],
   "source": [
    "sw.body"
   ]
  },
  {
   "cell_type": "code",
   "execution_count": null,
   "metadata": {},
   "outputs": [],
   "source": []
  }
 ],
 "metadata": {
  "kernelspec": {
   "display_name": "Python 3",
   "language": "python",
   "name": "python3"
  },
  "language_info": {
   "codemirror_mode": {
    "name": "ipython",
    "version": 3
   },
   "file_extension": ".py",
   "mimetype": "text/x-python",
   "name": "python",
   "nbconvert_exporter": "python",
   "pygments_lexer": "ipython3",
   "version": "3.8.3"
  }
 },
 "nbformat": 4,
 "nbformat_minor": 4
}
