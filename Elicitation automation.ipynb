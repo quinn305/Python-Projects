{
 "cells": [
  {
   "cell_type": "markdown",
   "metadata": {},
   "source": [
    "## Summary"
   ]
  },
  {
   "cell_type": "markdown",
   "metadata": {},
   "source": [
    "Necessary libraries are imported and the text-to-speech engine is initialized. \n",
    "\n",
    "Then, we go into the directory that the excel sheet is in and convert it into a Pandas dataframe. \n",
    "\n",
    "df.head() is called to preview the dataframe format. \n",
    "\n",
    "Then, each series of the dataframe, corresponding to different CV patterns, is converted into a list and NaN values are discarded. \n",
    "\n",
    "Then, each word in the phrasal component list and base word list is combined to form a phrasal list. If the phrasal word, such as 'his', goes before the base word, such as 'person', the phrase is formed with the phrasal word first (his person) and if the phrasal component goes second such as 'of the world', then the words will be combined to be, for example, 'person of the world'.\n",
    "\n",
    "From here new variables such as CV_phrases can be assigned to their respective outputs of this last function. \n",
    "\n",
    "The last function, which converts text to speech using Google Translate's speech API, takes a previously mentioned variable as input, and asks the user which word in the list they want to start on, before starting to speak the phrases at the users desired starting point. Once one word is said by the program, the user clicks any key to hear the next word. \n",
    "\n"
   ]
  },
  {
   "cell_type": "markdown",
   "metadata": {},
   "source": [
    "## Import libraries and start engine"
   ]
  },
  {
   "cell_type": "code",
   "execution_count": 6,
   "metadata": {},
   "outputs": [],
   "source": [
    "import pyttsx3\n",
    "import pandas as pd\n",
    "import os\n",
    "import numpy as np\n",
    "\n",
    "# initialize Text-to-speech engine  \n",
    "engine = pyttsx3.init()  "
   ]
  },
  {
   "cell_type": "markdown",
   "metadata": {},
   "source": [
    "## Go to directory and convert spreadsheet to dataframe"
   ]
  },
  {
   "cell_type": "code",
   "execution_count": 7,
   "metadata": {},
   "outputs": [],
   "source": [
    "# Could make more general by making the user input this\n",
    "os.chdir(r\"/Users/quinncunningham/Downloads\")\n",
    "\n",
    "df = pd.read_excel(\"Tiriki_phrasal.xlsx\", sheet_name=0)"
   ]
  },
  {
   "cell_type": "code",
   "execution_count": 8,
   "metadata": {},
   "outputs": [
    {
     "name": "stdout",
     "output_type": "stream",
     "text": [
      "            CV    CVCV             CVVCV        CVCVCV  \\\n",
      "0       person  farmer  important person        seller   \n",
      "1          dew   witch  circumcision hut     cigarette   \n",
      "2  banana leaf    fire       razor blade  conversation   \n",
      "3  caterpillar  spider           beehive          drum   \n",
      "4         head   woman             wives   rope to tie   \n",
      "\n",
      "                   CVVCVCV         CVCVVCV           CVVCVVCV          σσσσ+  \\\n",
      "0                     bell  large wild cat           argument        thought   \n",
      "1                 bracelet         whistle           murderer       hospital   \n",
      "2                    sieve      spider web             spirit  reply, answer   \n",
      "3  tree bearing tiny fruit         warship        pipe, flute           lock   \n",
      "4               virgin boy       court fee  gap between teeth     motorcycle   \n",
      "\n",
      "             VCV            VCVCV                     VCVVCV  \n",
      "0         belief      chairperson                  clarifier  \n",
      "1       charcoal             seat                   preacher  \n",
      "2  cooking stick             list                     desire  \n",
      "3        stomach            broom               self-control  \n",
      "4          heart  wrestling match  decoration, ornamentation  \n"
     ]
    }
   ],
   "source": [
    "print(df.head())"
   ]
  },
  {
   "cell_type": "markdown",
   "metadata": {},
   "source": [
    "## Create lists of phrasal elements and remove NaNs"
   ]
  },
  {
   "cell_type": "code",
   "execution_count": 9,
   "metadata": {},
   "outputs": [
    {
     "name": "stdout",
     "output_type": "stream",
     "text": [
      "['person', 'dew', 'banana leaf', 'caterpillar', 'head', 'lice', 'brideprice payer', 'sorghum', 'latrine', 'mattress', 'small grinding stone', 'hand of bananas', 'clod']\n"
     ]
    }
   ],
   "source": [
    "# Could refractor to get rid of the hard code and dynamically\n",
    "# do this from the main function the user calls. Instead of \n",
    "# calling CV in combine function, you could call list(df[cv_pattern])\n",
    "# for the user to determine which word list title to convert to list\n",
    "# and then use in the combine and voice functions\n",
    "CV_ = list(df['CV'])\n",
    "CV = [x for x in CV_ if pd.isnull(x) == False and x != 'nan']\n",
    "\n",
    "CVCV_ = list(df['CVCV'])\n",
    "CVCV = [x for x in CVCV_ if pd.isnull(x) == False and x != 'nan']\n",
    "\n",
    "CVVCV_ = list(df['CVVCV'])\n",
    "CVVCV = [x for x in CVVCV_ if pd.isnull(x) == False and x != 'nan'] \n",
    "\n",
    "CVCVCV_ = list(df['CVCVCV'])\n",
    "CVCVCV = [x for x in CVCVCV_ if pd.isnull(x) == False and x != 'nan']\n",
    "\n",
    "CVVCVCV_ = list(df['CVVCVCV'])\n",
    "CVVCVCV = [x for x in CVVCVCV_ if pd.isnull(x) == False and x != 'nan']\n",
    "\n",
    "CVCVVCV_ = list(df['CVCVVCV'])\n",
    "CVCVVCV = [x for x in CVCVVCV_ if pd.isnull(x) == False and x != 'nan']\n",
    "\n",
    "CVVCVVCV_ = list(df['CVVCVVCV'])\n",
    "CVVCVVCV = [x for x in CVVCVVCV_ if pd.isnull(x) == False and x != 'nan']\n",
    "\n",
    "σσσσ_ = list(df['σσσσ+'])\n",
    "σσσσ = [x for x in σσσσ_ if pd.isnull(x) == False and x != 'nan']\n",
    "\n",
    "VCV_ = list(df['VCV'])\n",
    "VCV = [x for x in VCV_ if pd.isnull(x) == False and x != 'nan']\n",
    "\n",
    "VCVCV_ = list(df['VCVCV'])\n",
    "VCVCV = [x for x in VCVCV_ if pd.isnull(x) == False and x != 'nan']\n",
    "\n",
    "VCVVCV_ = list(df['VCVVCV'])\n",
    "VCVVCV = [x for x in VCVVCV_ if pd.isnull(x) == False and x != 'nan']\n",
    "\n",
    "print(CV)"
   ]
  },
  {
   "cell_type": "code",
   "execution_count": 10,
   "metadata": {},
   "outputs": [],
   "source": [
    "possessives = ['','his,', 'our,']\n",
    "\n",
    "adjectives = ['a good,', 'a big,', 'a lightweight,', 'a heavy,']\n",
    "\n",
    "numerals = ['one or some', 'two']\n",
    "\n",
    "interrogatives = ['which', 'what', 'how many', 'not a']\n",
    "\n",
    "demonstratives = ['this,', 'that,', 'of the world']"
   ]
  },
  {
   "cell_type": "markdown",
   "metadata": {},
   "source": [
    "## Combine into phrases"
   ]
  },
  {
   "cell_type": "code",
   "execution_count": 11,
   "metadata": {},
   "outputs": [],
   "source": [
    "# edit for pluralization here\n",
    "def Combine(lst_n,lst_p):\n",
    "    phrases = []\n",
    "    for n in lst_n:\n",
    "        for p in lst_p:\n",
    "        #print(p, n)\n",
    "            if p != 'of the world':\n",
    "                phrases.append(f'{p} {n}')\n",
    "            elif p == 'of the world':\n",
    "                phrases.append(f'{n} {p}')\n",
    "    return phrases\n"
   ]
  },
  {
   "cell_type": "code",
   "execution_count": 12,
   "metadata": {},
   "outputs": [
    {
     "name": "stdout",
     "output_type": "stream",
     "text": [
      "[' belief', 'his, belief', 'our, belief', ' charcoal', 'his, charcoal', 'our, charcoal', ' cooking stick', 'his, cooking stick', 'our, cooking stick', ' stomach', 'his, stomach', 'our, stomach', ' heart', 'his, heart', 'our, heart', ' broom, brush', 'his, broom, brush', 'our, broom, brush', ' chief', 'his, chief', 'our, chief', ' child', 'his, child', 'our, child', ' boat', 'his, boat', 'our, boat', ' tooth gap', 'his, tooth gap', 'our, tooth gap', ' water', 'his, water', 'our, water', ' flock', 'his, flock', 'our, flock', ' month, moon', 'his, month, moon', 'our, month, moon', ' horn', 'his, horn', 'our, horn', ' song', 'his, song', 'our, song', ' tooth', 'his, tooth', 'our, tooth', ' name', 'his, name', 'our, name', ' killer', 'his, killer', 'our, killer', ' thief, robber', 'his, thief, robber', 'our, thief, robber', ' smoke', 'his, smoke', 'our, smoke', ' nose', 'his, nose', 'our, nose', ' granary', 'his, granary', 'our, granary', ' floor, down', 'his, floor, down', 'our, floor, down', ' fence, valley', 'his, fence, valley', 'our, fence, valley', ' bark', 'his, bark', 'our, bark', ' square', 'his, square', 'our, square', ' umbrella tree', 'his, umbrella tree', 'our, umbrella tree']\n"
     ]
    }
   ],
   "source": [
    "# can get rid of this and the original voice function in favor\n",
    "# of the new one that dynamically calls CV pattern and phrasal \n",
    "# context per the input of the user\n",
    "\n",
    "CV_possessives = Combine(CV, possessives)\n",
    "CV_adjectives = Combine(CV, adjectives)\n",
    "CV_numerals = Combine(CV, numerals)\n",
    "CV_interrogatives = Combine(CV, interrogatives)\n",
    "CV_demonstratives = Combine(CV, demonstratives)\n",
    "\n",
    "CVCV_possessives = Combine(CVCV, possessives)\n",
    "CVCV_adjectives = Combine(CVCV, adjectives)\n",
    "CVCV_numerals = Combine(CVCV, numerals)\n",
    "CVCV_interrogatives = Combine(CVCV, interrogatives)\n",
    "CVCV_demonstratives = Combine(CVCV, demonstratives)\n",
    "\n",
    "CVVCV_possessives = Combine(CVVCV, possessives)\n",
    "CVVCV_adjectives = Combine(CVVCV, adjectives)\n",
    "CVVCV_numerals = Combine(CVVCV, numerals)\n",
    "CVVCV_interrogatives = Combine(CVVCV, interrogatives)\n",
    "CVVCV_demonstratives = Combine(CVVCV, demonstratives)\n",
    "\n",
    "CVCVCV_possessives = Combine(CVCVCV, possessives)\n",
    "CVCVCV_adjectives = Combine(CVCVCV, adjectives)\n",
    "CVCVCV_numerals = Combine(CVCVCV, numerals)\n",
    "CVCVCV_interrogatives = Combine(CVCVCV, interrogatives)\n",
    "CVCVCV_demonstratives = Combine(CVCVCV, demonstratives)\n",
    "\n",
    "σσσσ_possessives = Combine(σσσσ, possessives)\n",
    "\n",
    "VCV_possessives = Combine(VCV, possessives)\n",
    "VCV_adjectives = Combine(VCV, adjectives)\n",
    "VCV_numerals = Combine(VCV, numerals)\n",
    "VCV_interrogatives = Combine(VCV, interrogatives)\n",
    "VCV_demonstratives = Combine(VCV, demonstratives)\n",
    "\n",
    "print(VCV_possessives)"
   ]
  },
  {
   "cell_type": "markdown",
   "metadata": {},
   "source": [
    "## Speak each phrase after user prompt and starting point"
   ]
  },
  {
   "cell_type": "code",
   "execution_count": 57,
   "metadata": {},
   "outputs": [],
   "source": [
    "def Voicing(func):\n",
    "    \n",
    "    starting_word = input('Which word to start with? ')\n",
    "    enum = enumerate(func)\n",
    "    d = dict((i,j) for j,i in enum)\n",
    "    \n",
    "    if f' ‘{starting_word}’' in d:\n",
    "        starting_number = d[f' ‘{starting_word}’']\n",
    "        #print(f\"The starting index is {starting_number}\")\n",
    "        for i in func[starting_number:]:\n",
    "            engine.say(i)\n",
    "            engine.runAndWait()\n",
    "            input(\"Press any key to continue \")\n",
    "            \n",
    "    else:\n",
    "        print(\"Not a word in the list\")"
   ]
  },
  {
   "cell_type": "code",
   "execution_count": 58,
   "metadata": {},
   "outputs": [
    {
     "name": "stdout",
     "output_type": "stream",
     "text": [
      "Which word to start with? heart\n",
      "Not a word in the list\n"
     ]
    }
   ],
   "source": [
    "Voicing(VCV_adjectives)"
   ]
  },
  {
   "cell_type": "code",
   "execution_count": 116,
   "metadata": {},
   "outputs": [],
   "source": [
    "# Next, to move backwards, the function should just be closed \n",
    "# and restarted, asking for a new starting word.\n",
    "# If the user wants to jump around, maybe another function would\n",
    "# allow that more specifically?\n",
    "def Voicing2(CV_pattern, phrasal_list):\n",
    "    \n",
    "    func = Combine(CV_pattern, phrasal_list)\n",
    "    \n",
    "    starting_word = input('Which word to start with? ')\n",
    "    enum = enumerate(func)\n",
    "    d = dict((i,j) for j,i in enum)\n",
    "    print(f'‘{starting_word}’')\n",
    "    print(CV_pattern)\n",
    "    #print(d)\n",
    "    if f'{starting_word}' in CV_pattern:\n",
    "        \n",
    "        starting_number = d[f'{phrasal_list[0]} {starting_word}']\n",
    "        \n",
    "        \n",
    "        #print(f\"The starting index is {starting_number}\")\n",
    "        for i in func[starting_number:]:\n",
    "            x = True\n",
    "            while x == True:\n",
    "                engine.say(i)\n",
    "                engine.runAndWait()\n",
    "                user_prompt = input(\"Press r to repeat, any other key to continue \")\n",
    "                if user_prompt != 'r':\n",
    "                    x = False\n",
    "    else:\n",
    "        print(\"Not a word in the list\")"
   ]
  },
  {
   "cell_type": "code",
   "execution_count": 119,
   "metadata": {},
   "outputs": [
    {
     "name": "stdout",
     "output_type": "stream",
     "text": [
      "Which word to start with? chairperson\n",
      "‘chairperson’\n",
      "['chairperson', 'seat', 'list', 'broom', 'wrestling match', 'parent', 'fire for warming', 'separation', 'grazing ground', 'at the center', 'pride', 'debtor', 'chicken pox', 'Isukha person', 'nudity', 'Idakho person', 'difference', 'builder', 'lesson', 'teacher', 'teaching', 'generation', 'son']\n",
      "Press r to repeat, any other key to continue \n",
      "Press r to repeat, any other key to continue \n",
      "Press r to repeat, any other key to continue \n",
      "Press r to repeat, any other key to continue \n",
      "Press r to repeat, any other key to continue \n",
      "Press r to repeat, any other key to continue \n",
      "Press r to repeat, any other key to continue \n",
      "Press r to repeat, any other key to continue \n",
      "Press r to repeat, any other key to continue \n",
      "Press r to repeat, any other key to continue \n",
      "Press r to repeat, any other key to continue \n",
      "Press r to repeat, any other key to continue \n",
      "Press r to repeat, any other key to continue \n",
      "Press r to repeat, any other key to continue \n",
      "Press r to repeat, any other key to continue \n",
      "Press r to repeat, any other key to continue \n",
      "Press r to repeat, any other key to continue \n",
      "Press r to repeat, any other key to continue \n",
      "Press r to repeat, any other key to continue \n",
      "Press r to repeat, any other key to continue \n",
      "Press r to repeat, any other key to continue \n",
      "Press r to repeat, any other key to continue \n",
      "Press r to repeat, any other key to continue \n",
      "Press r to repeat, any other key to continue \n",
      "Press r to repeat, any other key to continue \n",
      "Press r to repeat, any other key to continue \n",
      "Press r to repeat, any other key to continue \n",
      "Press r to repeat, any other key to continue \n",
      "Press r to repeat, any other key to continue \n",
      "Press r to repeat, any other key to continue \n",
      "Press r to repeat, any other key to continue \n",
      "Press r to repeat, any other key to continue \n",
      "Press r to repeat, any other key to continue \n",
      "Press r to repeat, any other key to continue \n",
      "Press r to repeat, any other key to continue \n",
      "Press r to repeat, any other key to continue \n",
      "Press r to repeat, any other key to continue \n",
      "Press r to repeat, any other key to continue \n",
      "Press r to repeat, any other key to continue \n",
      "Press r to repeat, any other key to continue \n",
      "Press r to repeat, any other key to continue \n",
      "Press r to repeat, any other key to continue \n",
      "Press r to repeat, any other key to continue \n",
      "Press r to repeat, any other key to continue \n",
      "Press r to repeat, any other key to continue \n",
      "Press r to repeat, any other key to continue \n",
      "Press r to repeat, any other key to continue \n",
      "Press r to repeat, any other key to continue \n",
      "Press r to repeat, any other key to continue \n",
      "Press r to repeat, any other key to continue \n",
      "Press r to repeat, any other key to continue \n",
      "Press r to repeat, any other key to continue \n",
      "Press r to repeat, any other key to continue \n",
      "Press r to repeat, any other key to continue \n",
      "Press r to repeat, any other key to continue \n",
      "Press r to repeat, any other key to continue \n",
      "Press r to repeat, any other key to continue \n",
      "Press r to repeat, any other key to continue \n",
      "Press r to repeat, any other key to continue \n",
      "Press r to repeat, any other key to continue \n",
      "Press r to repeat, any other key to continue \n",
      "Press r to repeat, any other key to continue \n",
      "Press r to repeat, any other key to continue \n",
      "Press r to repeat, any other key to continue \n",
      "Press r to repeat, any other key to continue \n",
      "Press r to repeat, any other key to continue \n",
      "Press r to repeat, any other key to continue \n",
      "Press r to repeat, any other key to continue \n",
      "Press r to repeat, any other key to continue \n",
      "Press r to repeat, any other key to continue \n",
      "Press r to repeat, any other key to continue \n",
      "Press r to repeat, any other key to continue \n",
      "Press r to repeat, any other key to continue \n",
      "Press r to repeat, any other key to continue \n",
      "Press r to repeat, any other key to continue \n",
      "Press r to repeat, any other key to continue \n",
      "Press r to repeat, any other key to continue \n",
      "Press r to repeat, any other key to continue \n",
      "Press r to repeat, any other key to continue \n",
      "Press r to repeat, any other key to continue \n",
      "Press r to repeat, any other key to continue \n",
      "Press r to repeat, any other key to continue \n",
      "Press r to repeat, any other key to continue \n",
      "Press r to repeat, any other key to continue \n",
      "Press r to repeat, any other key to continue \n",
      "Press r to repeat, any other key to continue \n",
      "Press r to repeat, any other key to continue \n",
      "Press r to repeat, any other key to continue \n",
      "Press r to repeat, any other key to continue \n",
      "Press r to repeat, any other key to continue \n",
      "Press r to repeat, any other key to continue \n",
      "Press r to repeat, any other key to continue \n"
     ]
    }
   ],
   "source": [
    "Voicing2(VCVCV, adjectives)j"
   ]
  },
  {
   "cell_type": "code",
   "execution_count": null,
   "metadata": {},
   "outputs": [],
   "source": [
    "# Maybe want to set up kivy app or something\n",
    "# to publish online tool. Will need to make more generalizable,\n",
    "# or find similar but different purposes that the program can\n",
    "# be specialized to. More generally, a simple list of word lists\n",
    "# would not even have to have the Combine() function "
   ]
  },
  {
   "cell_type": "code",
   "execution_count": 13,
   "metadata": {},
   "outputs": [
    {
     "name": "stdout",
     "output_type": "stream",
     "text": [
      "people\n"
     ]
    }
   ],
   "source": [
    "import inflect\n",
    "enginep = inflect.engine()\n",
    "plural = enginep.plural('person')\n",
    "print(plural)"
   ]
  },
  {
   "cell_type": "code",
   "execution_count": 20,
   "metadata": {},
   "outputs": [],
   "source": [
    "# edit for pluralization here\n",
    "def Combine2(lst_n,lst_p):\n",
    "    phrases = []\n",
    "    for n in lst_n:\n",
    "        for p in lst_p:\n",
    "            \n",
    "            if p == 'two' or p == 'how many':\n",
    "                phrases.append(f'{p} {enginep.plural(n)}')\n",
    "            elif p == 'of the world':\n",
    "                phrases.append(f'{n} {p}')\n",
    "            else:\n",
    "                phrases.append(f'{p} {n}')\n",
    "    return phrases"
   ]
  },
  {
   "cell_type": "code",
   "execution_count": 21,
   "metadata": {},
   "outputs": [
    {
     "data": {
      "text/plain": [
       "['one or some person',\n",
       " 'two people',\n",
       " 'one or some dew',\n",
       " 'two dews',\n",
       " 'one or some banana leaf',\n",
       " 'two banana leaves',\n",
       " 'one or some caterpillar',\n",
       " 'two caterpillars',\n",
       " 'one or some head',\n",
       " 'two heads',\n",
       " 'one or some lice',\n",
       " 'two lices',\n",
       " 'one or some brideprice payer',\n",
       " 'two brideprice payers',\n",
       " 'one or some sorghum',\n",
       " 'two sorghums',\n",
       " 'one or some latrine',\n",
       " 'two latrines',\n",
       " 'one or some mattress',\n",
       " 'two mattresses',\n",
       " 'one or some small grinding stone',\n",
       " 'two small grinding stones',\n",
       " 'one or some hand of bananas',\n",
       " 'two hands of bananas',\n",
       " 'one or some clod',\n",
       " 'two clods']"
      ]
     },
     "execution_count": 21,
     "metadata": {},
     "output_type": "execute_result"
    }
   ],
   "source": [
    "Combine2(CV, numerals)"
   ]
  },
  {
   "cell_type": "code",
   "execution_count": null,
   "metadata": {},
   "outputs": [],
   "source": []
  }
 ],
 "metadata": {
  "kernelspec": {
   "display_name": "Python 3",
   "language": "python",
   "name": "python3"
  },
  "language_info": {
   "codemirror_mode": {
    "name": "ipython",
    "version": 3
   },
   "file_extension": ".py",
   "mimetype": "text/x-python",
   "name": "python",
   "nbconvert_exporter": "python",
   "pygments_lexer": "ipython3",
   "version": "3.8.3"
  }
 },
 "nbformat": 4,
 "nbformat_minor": 4
}
