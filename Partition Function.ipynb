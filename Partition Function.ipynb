{
 "cells": [
  {
   "cell_type": "code",
   "execution_count": 1,
   "metadata": {},
   "outputs": [],
   "source": [
    "import matplotlib.pyplot as plt\n",
    "import networkx as nx\n",
    "import pandas as pd\n",
    "import numpy as np\n",
    "import networkx as nx\n",
    "import matplotlib.pyplot as plt"
   ]
  },
  {
   "cell_type": "code",
   "execution_count": 2,
   "metadata": {},
   "outputs": [
    {
     "data": {
      "image/png": "[encoded data removed]",
      "text/plain": [
       "<Figure size 432x288 with 1 Axes>"
      ]
     },
     "metadata": {},
     "output_type": "display_data"
    }
   ],
   "source": [
    "G=nx.DiGraph()\n",
    "# Add nodes by specifying their positions\n",
    "\n",
    "#Change Parameters below this line\n",
    "# ---------------------------------------------------------------------\n",
    "G.add_node('F',weight = 1, pos=(4, 8) )\n",
    "G.add_node('T',weight = 1,  pos=(12, 8))\n",
    "G.add_node('Z',weight = 1,  pos=(8, 12))\n",
    "G.add_node('S',weight = 1, pos=(20, 12) )\n",
    "G.add_node('E',weight = 1,  pos=(20, 8))\n",
    "G.add_node('<',weight = 2,  pos=(14, 10))\n",
    "G.add_node('C',weight = 1, pos=(16, 8) )\n",
    "G.add_node('p',weight = 1, pos=(0, 12))\n",
    "G.add_node('β',weight = 2,  pos=(-4, 8))\n",
    "G.add_node('>',weight = 2,  pos=(4, 12))\n",
    "\n",
    "\n",
    "# Add edges by defining weight and label\n",
    "G.add_edge('F','T',weight=1, label='')\n",
    "G.add_edge('Z','F',weight=3, label='e')\n",
    "G.add_edge('S','E',weight=7, label='')\n",
    "G.add_edge('Z','S',weight=9, label='e')\n",
    "G.add_edge('E','<',weight=6, label='β')\n",
    "G.add_edge('Z','<',weight=3, label='e')\n",
    "G.add_edge('C','E',weight=6, label='T')\n",
    "G.add_edge('β','p',weight=1, label = '')\n",
    "G.add_edge('p','>',weight=6, label = 'V')\n",
    "G.add_edge('Z','>',weight=3, label = 'e')\n",
    "\n",
    " \n",
    "simple=[(u,v) for (u,v,d) in G.edges(data=True) if d['weight'] ==1] # solid edge\n",
    "allometric=[(u,v) for (u,v,d) in G.edges(data=True) if d['weight'] ==2] # solid edge\n",
    "exponential=[(u,v) for (u,v,d) in G.edges(data=True) if d['weight'] ==3] # solid edge\n",
    "circular=[(u,v) for (u,v,d) in G.edges(data=True) if d['weight'] ==4] # solid edge\n",
    "hyperbolic=[(u,v) for (u,v,d) in G.edges(data=True) if d['weight'] ==5] # solid edge\n",
    "differential=[(u,v) for (u,v,d) in G.edges(data=True) if d['weight'] ==6] # solid edge\n",
    "\n",
    "simple_d=[(u,v) for (u,v,d) in G.edges(data=True) if d['weight'] ==7] # solid edge\n",
    "allometric_d=[(u,v) for (u,v,d) in G.edges(data=True) if d['weight'] ==8] # solid edge\n",
    "exponential_d=[(u,v) for (u,v,d) in G.edges(data=True) if d['weight'] ==9] # solid edge\n",
    "circular_d=[(u,v) for (u,v,d) in G.edges(data=True) if d['weight'] ==10] # solid edge\n",
    "hyperbolic_d=[(u,v) for (u,v,d) in G.edges(data=True) if d['weight'] ==11] # solid edge\n",
    "differential_d=[(u,v) for (u,v,d) in G.edges(data=True) if d['weight'] ==12] # solid edge\n",
    "\n",
    "main = [n for n,v in G.nodes(data=True) if v['weight'] == 1]\n",
    "#side = [n for n,v in G.nodes(data=True) if v['weight'] == 2]\n",
    "\n",
    "# Retrieve the positions from graph nodes and save to a dictionary\n",
    "pos=nx.get_node_attributes(G,'pos')\n",
    "# Draw nodes\n",
    "nx.draw_networkx_nodes(G,pos, nodelist=main, node_size=0, node_color='orange')\n",
    "#nx.draw_networkx_nodes(G,pos, nodelist=Z, node_size=0, node_color='orange')\n",
    " \n",
    "# Draw edges\n",
    "nx.draw_networkx_edges(G,pos,edgelist=simple, width=3,arrowstyle = 'fancy', edge_color='r',style ='solid')\n",
    "nx.draw_networkx_edges(G,pos,edgelist=differential, width=3,arrowstyle = 'fancy', edge_color='g',style ='solid')\n",
    "nx.draw_networkx_edges(G,pos,edgelist=simple_d, width=3,arrowstyle = 'fancy', edge_color='r',style ='dashed')\n",
    "nx.draw_networkx_edges(G,pos,edgelist=differential_d, width=3,arrowstyle = 'fancy', edge_color='g',style ='dashed')\n",
    "nx.draw_networkx_edges(G,pos,edgelist=exponential, arrows=True,arrowstyle = 'fancy', width=3,\n",
    "                       alpha=0.5,edge_color='b',style='solid')\n",
    "nx.draw_networkx_edges(G,pos,edgelist=exponential_d, arrows=True,arrowstyle = 'fancy', width=3,\n",
    "                       alpha=0.5,edge_color='b',style='dashed')\n",
    "\n",
    "# ---------------------------------------------------------------------\n",
    "# Change parameters above this line\n",
    "\n",
    "# Draw node labels\n",
    "nx.draw_networkx_labels(G,pos,font_size=18,font_family='sans-serif')\n",
    " \n",
    "#Draw edge labels\n",
    "edge_labels =dict([((u, v), d['label']) \n",
    "    for u, v, d in G.edges(data=True)])\n",
    " \n",
    "nx.draw_networkx_edge_labels(G, pos, edge_labels=edge_labels)\n",
    " \n",
    "plt.axis('off')\n",
    "#plt.savefig(\"communication_authority_graph.eps\", format='eps') # save as eps\n",
    "plt.show() # display"
   ]
  },
  {
   "cell_type": "code",
   "execution_count": null,
   "metadata": {},
   "outputs": [],
   "source": []
  }
 ],
 "metadata": {
  "kernelspec": {
   "display_name": "Python 3",
   "language": "python",
   "name": "python3"
  },
  "language_info": {
   "codemirror_mode": {
    "name": "ipython",
    "version": 3
   },
   "file_extension": ".py",
   "mimetype": "text/x-python",
   "name": "python",
   "nbconvert_exporter": "python",
   "pygments_lexer": "ipython3",
   "version": "3.8.3"
  }
 },
 "nbformat": 4,
 "nbformat_minor": 4
}
